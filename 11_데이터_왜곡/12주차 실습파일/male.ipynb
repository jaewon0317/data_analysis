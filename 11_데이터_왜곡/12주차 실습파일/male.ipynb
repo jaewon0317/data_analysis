{
 "cells": [
  {
   "cell_type": "code",
   "id": "initial_id",
   "metadata": {
    "collapsed": true,
    "ExecuteTime": {
     "end_time": "2025-05-28T05:54:21.190724Z",
     "start_time": "2025-05-28T05:54:20.938261Z"
    }
   },
   "source": [
    "import pandas as pd\n",
    "from patsy.desc import test_ModelDesc_from_formula\n",
    "from sklearn.model_selection import train_test_split\n",
    "from sklearn import svm\n",
    "from sklearn import metrics\n",
    "import seaborn as sns"
   ],
   "outputs": [],
   "execution_count": 1
  },
  {
   "metadata": {},
   "cell_type": "markdown",
   "source": "# 편향 데이터",
   "id": "be26ccf260b58e79"
  },
  {
   "metadata": {
    "ExecuteTime": {
     "end_time": "2025-05-28T05:54:21.241478Z",
     "start_time": "2025-05-28T05:54:21.225701Z"
    }
   },
   "cell_type": "code",
   "source": [
    "# 1. 데이터 불러오기\n",
    "df = pd.read_csv('titanic_train_male_large.csv')\n",
    "data_df = df\n",
    "data_df.head()"
   ],
   "id": "6dfe3e6fbf87c413",
   "outputs": [
    {
     "data": {
      "text/plain": [
       "   pclass                             name  sex   age  sibsp  parch  \\\n",
       "0       3       Lundstrom, Mr. Thure Edvin    1  32.0      0      0   \n",
       "1       3       Dean, Master. Bertram Vere    1   1.0      1      2   \n",
       "2       3           Jansson, Mr. Carl Olof    1  21.0      0      0   \n",
       "3       3  Johnson, Master. Harold Theodor    1   4.0      1      1   \n",
       "4       2      Wells, Master. Ralph Lester    1   2.0      1      1   \n",
       "\n",
       "      ticket     fare cabin embarked  survived  \n",
       "0     350403   7.5792   NaN        S         1  \n",
       "1  C.A. 2315  20.5750   NaN        S         1  \n",
       "2     350034   7.7958   NaN        S         1  \n",
       "3     347742  11.1333   NaN        S         1  \n",
       "4      29103  23.0000   NaN        S         1  "
      ],
      "text/html": [
       "<div>\n",
       "<style scoped>\n",
       "    .dataframe tbody tr th:only-of-type {\n",
       "        vertical-align: middle;\n",
       "    }\n",
       "\n",
       "    .dataframe tbody tr th {\n",
       "        vertical-align: top;\n",
       "    }\n",
       "\n",
       "    .dataframe thead th {\n",
       "        text-align: right;\n",
       "    }\n",
       "</style>\n",
       "<table border=\"1\" class=\"dataframe\">\n",
       "  <thead>\n",
       "    <tr style=\"text-align: right;\">\n",
       "      <th></th>\n",
       "      <th>pclass</th>\n",
       "      <th>name</th>\n",
       "      <th>sex</th>\n",
       "      <th>age</th>\n",
       "      <th>sibsp</th>\n",
       "      <th>parch</th>\n",
       "      <th>ticket</th>\n",
       "      <th>fare</th>\n",
       "      <th>cabin</th>\n",
       "      <th>embarked</th>\n",
       "      <th>survived</th>\n",
       "    </tr>\n",
       "  </thead>\n",
       "  <tbody>\n",
       "    <tr>\n",
       "      <th>0</th>\n",
       "      <td>3</td>\n",
       "      <td>Lundstrom, Mr. Thure Edvin</td>\n",
       "      <td>1</td>\n",
       "      <td>32.0</td>\n",
       "      <td>0</td>\n",
       "      <td>0</td>\n",
       "      <td>350403</td>\n",
       "      <td>7.5792</td>\n",
       "      <td>NaN</td>\n",
       "      <td>S</td>\n",
       "      <td>1</td>\n",
       "    </tr>\n",
       "    <tr>\n",
       "      <th>1</th>\n",
       "      <td>3</td>\n",
       "      <td>Dean, Master. Bertram Vere</td>\n",
       "      <td>1</td>\n",
       "      <td>1.0</td>\n",
       "      <td>1</td>\n",
       "      <td>2</td>\n",
       "      <td>C.A. 2315</td>\n",
       "      <td>20.5750</td>\n",
       "      <td>NaN</td>\n",
       "      <td>S</td>\n",
       "      <td>1</td>\n",
       "    </tr>\n",
       "    <tr>\n",
       "      <th>2</th>\n",
       "      <td>3</td>\n",
       "      <td>Jansson, Mr. Carl Olof</td>\n",
       "      <td>1</td>\n",
       "      <td>21.0</td>\n",
       "      <td>0</td>\n",
       "      <td>0</td>\n",
       "      <td>350034</td>\n",
       "      <td>7.7958</td>\n",
       "      <td>NaN</td>\n",
       "      <td>S</td>\n",
       "      <td>1</td>\n",
       "    </tr>\n",
       "    <tr>\n",
       "      <th>3</th>\n",
       "      <td>3</td>\n",
       "      <td>Johnson, Master. Harold Theodor</td>\n",
       "      <td>1</td>\n",
       "      <td>4.0</td>\n",
       "      <td>1</td>\n",
       "      <td>1</td>\n",
       "      <td>347742</td>\n",
       "      <td>11.1333</td>\n",
       "      <td>NaN</td>\n",
       "      <td>S</td>\n",
       "      <td>1</td>\n",
       "    </tr>\n",
       "    <tr>\n",
       "      <th>4</th>\n",
       "      <td>2</td>\n",
       "      <td>Wells, Master. Ralph Lester</td>\n",
       "      <td>1</td>\n",
       "      <td>2.0</td>\n",
       "      <td>1</td>\n",
       "      <td>1</td>\n",
       "      <td>29103</td>\n",
       "      <td>23.0000</td>\n",
       "      <td>NaN</td>\n",
       "      <td>S</td>\n",
       "      <td>1</td>\n",
       "    </tr>\n",
       "  </tbody>\n",
       "</table>\n",
       "</div>"
      ]
     },
     "execution_count": 2,
     "metadata": {},
     "output_type": "execute_result"
    }
   ],
   "execution_count": 2
  },
  {
   "metadata": {
    "ExecuteTime": {
     "end_time": "2025-05-28T05:54:21.275616Z",
     "start_time": "2025-05-28T05:54:21.272162Z"
    }
   },
   "cell_type": "code",
   "source": "data_df.shape",
   "id": "95d59ace86efc107",
   "outputs": [
    {
     "data": {
      "text/plain": [
       "(543, 11)"
      ]
     },
     "execution_count": 3,
     "metadata": {},
     "output_type": "execute_result"
    }
   ],
   "execution_count": 3
  },
  {
   "metadata": {
    "ExecuteTime": {
     "end_time": "2025-05-28T05:54:21.425856Z",
     "start_time": "2025-05-28T05:54:21.309703Z"
    }
   },
   "cell_type": "code",
   "source": [
    "data_df['age'] = (data_df['age']//10)*10\n",
    "print(data_df['survived'].value_counts())\n",
    "data_df['survived'].value_counts().plot(kind='bar')"
   ],
   "id": "1ee6443e7b5e2d40",
   "outputs": [
    {
     "name": "stdout",
     "output_type": "stream",
     "text": [
      "survived\n",
      "0    411\n",
      "1    132\n",
      "Name: count, dtype: int64\n"
     ]
    },
    {
     "data": {
      "text/plain": [
       "<Axes: xlabel='survived'>"
      ]
     },
     "execution_count": 4,
     "metadata": {},
     "output_type": "execute_result"
    },
    {
     "data": {
      "text/plain": [
       "<Figure size 640x480 with 1 Axes>"
      ],
      "image/png": "[encoded data removed]"
     },
     "metadata": {},
     "output_type": "display_data"
    }
   ],
   "execution_count": 4
  },
  {
   "metadata": {
    "ExecuteTime": {
     "end_time": "2025-05-28T05:54:21.452788Z",
     "start_time": "2025-05-28T05:54:21.447808Z"
    }
   },
   "cell_type": "code",
   "source": [
    "test = pd.read_csv('test.csv')\n",
    "train = data_df\n",
    "print(train.shape)\n",
    "print(test.shape)"
   ],
   "id": "4646cac13dceba07",
   "outputs": [
    {
     "name": "stdout",
     "output_type": "stream",
     "text": [
      "(543, 11)\n",
      "(210, 11)\n"
     ]
    }
   ],
   "execution_count": 5
  },
  {
   "metadata": {
    "ExecuteTime": {
     "end_time": "2025-05-28T05:54:21.492708Z",
     "start_time": "2025-05-28T05:54:21.486466Z"
    }
   },
   "cell_type": "code",
   "source": "test['age'] = (test['age']//10)*10",
   "id": "4adfe5a38f627c3",
   "outputs": [],
   "execution_count": 6
  },
  {
   "metadata": {
    "ExecuteTime": {
     "end_time": "2025-05-28T05:54:21.595620Z",
     "start_time": "2025-05-28T05:54:21.525689Z"
    }
   },
   "cell_type": "code",
   "source": [
    "data_df.corr(numeric_only=True)\n",
    "# train data 생존자 비율\n",
    "print(train['survived'].value_counts())\n",
    "train['survived'].value_counts().plot(kind='bar')"
   ],
   "id": "41de9bdd0ad7ab08",
   "outputs": [
    {
     "name": "stdout",
     "output_type": "stream",
     "text": [
      "survived\n",
      "0    411\n",
      "1    132\n",
      "Name: count, dtype: int64\n"
     ]
    },
    {
     "data": {
      "text/plain": [
       "<Axes: xlabel='survived'>"
      ]
     },
     "execution_count": 7,
     "metadata": {},
     "output_type": "execute_result"
    },
    {
     "data": {
      "text/plain": [
       "<Figure size 640x480 with 1 Axes>"
      ],
      "image/png": "[encoded data removed]"
     },
     "metadata": {},
     "output_type": "display_data"
    }
   ],
   "execution_count": 7
  },
  {
   "metadata": {
    "ExecuteTime": {
     "end_time": "2025-05-28T05:54:21.689277Z",
     "start_time": "2025-05-28T05:54:21.621949Z"
    }
   },
   "cell_type": "code",
   "source": [
    "#클래스별 생존자 비율\n",
    "print(train['pclass'].value_counts())\n",
    "ax = sns.countplot(x='pclass', hue='survived', data=train)"
   ],
   "id": "b1a270ebf7fb1f68",
   "outputs": [
    {
     "name": "stdout",
     "output_type": "stream",
     "text": [
      "pclass\n",
      "3    286\n",
      "1    131\n",
      "2    126\n",
      "Name: count, dtype: int64\n"
     ]
    },
    {
     "data": {
      "text/plain": [
       "<Figure size 640x480 with 1 Axes>"
      ],
      "image/png": "[encoded data removed]"
     },
     "metadata": {},
     "output_type": "display_data"
    }
   ],
   "execution_count": 8
  },
  {
   "metadata": {
    "ExecuteTime": {
     "end_time": "2025-05-28T05:54:21.794311Z",
     "start_time": "2025-05-28T05:54:21.705298Z"
    }
   },
   "cell_type": "code",
   "source": [
    "#연령별 생존자 비율\n",
    "print(train['age'].value_counts())\n",
    "ax = sns.countplot(x='age', hue='survived', data=train)"
   ],
   "id": "cfbccc4b5c56880c",
   "outputs": [
    {
     "name": "stdout",
     "output_type": "stream",
     "text": [
      "age\n",
      "20.0    185\n",
      "30.0    124\n",
      "40.0     80\n",
      "10.0     65\n",
      "50.0     37\n",
      "0.0      31\n",
      "60.0     16\n",
      "70.0      4\n",
      "80.0      1\n",
      "Name: count, dtype: int64\n"
     ]
    },
    {
     "data": {
      "text/plain": [
       "<Figure size 640x480 with 1 Axes>"
      ],
      "image/png": "[encoded data removed]"
     },
     "metadata": {},
     "output_type": "display_data"
    }
   ],
   "execution_count": 9
  },
  {
   "metadata": {
    "ExecuteTime": {
     "end_time": "2025-05-28T05:54:21.818488Z",
     "start_time": "2025-05-28T05:54:21.809951Z"
    }
   },
   "cell_type": "code",
   "source": "train.groupby(['pclass','age']).mean(numeric_only=True)",
   "id": "f2dc8025c6c8885a",
   "outputs": [
    {
     "data": {
      "text/plain": [
       "                  sex     sibsp     parch        fare  survived\n",
       "pclass age                                                     \n",
       "1      0.0   1.000000  0.500000  2.000000  143.025000  1.000000\n",
       "       10.0  1.000000  0.800000  1.200000  129.851660  0.600000\n",
       "       20.0  0.923077  0.461538  0.230769   78.654488  0.500000\n",
       "       30.0  0.884615  0.384615  0.269231   53.712338  0.500000\n",
       "       40.0  0.882353  0.470588  0.058824   62.058703  0.500000\n",
       "       50.0  0.875000  0.541667  0.375000   79.765100  0.375000\n",
       "       60.0  1.000000  0.363636  0.818182   96.345836  0.090909\n",
       "       70.0  1.000000  0.500000  0.500000   60.252100  0.000000\n",
       "       80.0  1.000000  0.000000  0.000000   30.000000  1.000000\n",
       "2      0.0   1.000000  0.666667  1.333333   27.666667  1.000000\n",
       "       10.0  1.000000  0.000000  0.000000   26.307692  0.000000\n",
       "       20.0  0.975610  0.341463  0.048780   19.963107  0.121951\n",
       "       30.0  0.914286  0.342857  0.142857   18.997500  0.171429\n",
       "       40.0  0.944444  0.333333  0.388889   22.294211  0.055556\n",
       "       50.0  1.000000  0.000000  0.000000   14.815625  0.000000\n",
       "       60.0  1.000000  0.250000  0.250000   17.421875  0.250000\n",
       "       70.0  1.000000  0.000000  0.000000   10.500000  0.000000\n",
       "3      0.0   0.913043  2.434783  1.304348   23.256700  0.434783\n",
       "       10.0  0.957447  0.702128  0.425532   14.046632  0.106383\n",
       "       20.0  0.957627  0.135593  0.076271    9.458788  0.186441\n",
       "       30.0  0.936508  0.238095  0.253968   12.128437  0.253968\n",
       "       40.0  0.892857  0.214286  0.785714   12.123214  0.035714\n",
       "       50.0  1.000000  0.200000  0.000000    9.080840  0.000000\n",
       "       60.0  1.000000  0.000000  0.000000   24.250000  0.000000\n",
       "       70.0  1.000000  0.000000  0.000000    7.750000  0.000000"
      ],
      "text/html": [
       "<div>\n",
       "<style scoped>\n",
       "    .dataframe tbody tr th:only-of-type {\n",
       "        vertical-align: middle;\n",
       "    }\n",
       "\n",
       "    .dataframe tbody tr th {\n",
       "        vertical-align: top;\n",
       "    }\n",
       "\n",
       "    .dataframe thead th {\n",
       "        text-align: right;\n",
       "    }\n",
       "</style>\n",
       "<table border=\"1\" class=\"dataframe\">\n",
       "  <thead>\n",
       "    <tr style=\"text-align: right;\">\n",
       "      <th></th>\n",
       "      <th></th>\n",
       "      <th>sex</th>\n",
       "      <th>sibsp</th>\n",
       "      <th>parch</th>\n",
       "      <th>fare</th>\n",
       "      <th>survived</th>\n",
       "    </tr>\n",
       "    <tr>\n",
       "      <th>pclass</th>\n",
       "      <th>age</th>\n",
       "      <th></th>\n",
       "      <th></th>\n",
       "      <th></th>\n",
       "      <th></th>\n",
       "      <th></th>\n",
       "    </tr>\n",
       "  </thead>\n",
       "  <tbody>\n",
       "    <tr>\n",
       "      <th rowspan=\"9\" valign=\"top\">1</th>\n",
       "      <th>0.0</th>\n",
       "      <td>1.000000</td>\n",
       "      <td>0.500000</td>\n",
       "      <td>2.000000</td>\n",
       "      <td>143.025000</td>\n",
       "      <td>1.000000</td>\n",
       "    </tr>\n",
       "    <tr>\n",
       "      <th>10.0</th>\n",
       "      <td>1.000000</td>\n",
       "      <td>0.800000</td>\n",
       "      <td>1.200000</td>\n",
       "      <td>129.851660</td>\n",
       "      <td>0.600000</td>\n",
       "    </tr>\n",
       "    <tr>\n",
       "      <th>20.0</th>\n",
       "      <td>0.923077</td>\n",
       "      <td>0.461538</td>\n",
       "      <td>0.230769</td>\n",
       "      <td>78.654488</td>\n",
       "      <td>0.500000</td>\n",
       "    </tr>\n",
       "    <tr>\n",
       "      <th>30.0</th>\n",
       "      <td>0.884615</td>\n",
       "      <td>0.384615</td>\n",
       "      <td>0.269231</td>\n",
       "      <td>53.712338</td>\n",
       "      <td>0.500000</td>\n",
       "    </tr>\n",
       "    <tr>\n",
       "      <th>40.0</th>\n",
       "      <td>0.882353</td>\n",
       "      <td>0.470588</td>\n",
       "      <td>0.058824</td>\n",
       "      <td>62.058703</td>\n",
       "      <td>0.500000</td>\n",
       "    </tr>\n",
       "    <tr>\n",
       "      <th>50.0</th>\n",
       "      <td>0.875000</td>\n",
       "      <td>0.541667</td>\n",
       "      <td>0.375000</td>\n",
       "      <td>79.765100</td>\n",
       "      <td>0.375000</td>\n",
       "    </tr>\n",
       "    <tr>\n",
       "      <th>60.0</th>\n",
       "      <td>1.000000</td>\n",
       "      <td>0.363636</td>\n",
       "      <td>0.818182</td>\n",
       "      <td>96.345836</td>\n",
       "      <td>0.090909</td>\n",
       "    </tr>\n",
       "    <tr>\n",
       "      <th>70.0</th>\n",
       "      <td>1.000000</td>\n",
       "      <td>0.500000</td>\n",
       "      <td>0.500000</td>\n",
       "      <td>60.252100</td>\n",
       "      <td>0.000000</td>\n",
       "    </tr>\n",
       "    <tr>\n",
       "      <th>80.0</th>\n",
       "      <td>1.000000</td>\n",
       "      <td>0.000000</td>\n",
       "      <td>0.000000</td>\n",
       "      <td>30.000000</td>\n",
       "      <td>1.000000</td>\n",
       "    </tr>\n",
       "    <tr>\n",
       "      <th rowspan=\"8\" valign=\"top\">2</th>\n",
       "      <th>0.0</th>\n",
       "      <td>1.000000</td>\n",
       "      <td>0.666667</td>\n",
       "      <td>1.333333</td>\n",
       "      <td>27.666667</td>\n",
       "      <td>1.000000</td>\n",
       "    </tr>\n",
       "    <tr>\n",
       "      <th>10.0</th>\n",
       "      <td>1.000000</td>\n",
       "      <td>0.000000</td>\n",
       "      <td>0.000000</td>\n",
       "      <td>26.307692</td>\n",
       "      <td>0.000000</td>\n",
       "    </tr>\n",
       "    <tr>\n",
       "      <th>20.0</th>\n",
       "      <td>0.975610</td>\n",
       "      <td>0.341463</td>\n",
       "      <td>0.048780</td>\n",
       "      <td>19.963107</td>\n",
       "      <td>0.121951</td>\n",
       "    </tr>\n",
       "    <tr>\n",
       "      <th>30.0</th>\n",
       "      <td>0.914286</td>\n",
       "      <td>0.342857</td>\n",
       "      <td>0.142857</td>\n",
       "      <td>18.997500</td>\n",
       "      <td>0.171429</td>\n",
       "    </tr>\n",
       "    <tr>\n",
       "      <th>40.0</th>\n",
       "      <td>0.944444</td>\n",
       "      <td>0.333333</td>\n",
       "      <td>0.388889</td>\n",
       "      <td>22.294211</td>\n",
       "      <td>0.055556</td>\n",
       "    </tr>\n",
       "    <tr>\n",
       "      <th>50.0</th>\n",
       "      <td>1.000000</td>\n",
       "      <td>0.000000</td>\n",
       "      <td>0.000000</td>\n",
       "      <td>14.815625</td>\n",
       "      <td>0.000000</td>\n",
       "    </tr>\n",
       "    <tr>\n",
       "      <th>60.0</th>\n",
       "      <td>1.000000</td>\n",
       "      <td>0.250000</td>\n",
       "      <td>0.250000</td>\n",
       "      <td>17.421875</td>\n",
       "      <td>0.250000</td>\n",
       "    </tr>\n",
       "    <tr>\n",
       "      <th>70.0</th>\n",
       "      <td>1.000000</td>\n",
       "      <td>0.000000</td>\n",
       "      <td>0.000000</td>\n",
       "      <td>10.500000</td>\n",
       "      <td>0.000000</td>\n",
       "    </tr>\n",
       "    <tr>\n",
       "      <th rowspan=\"8\" valign=\"top\">3</th>\n",
       "      <th>0.0</th>\n",
       "      <td>0.913043</td>\n",
       "      <td>2.434783</td>\n",
       "      <td>1.304348</td>\n",
       "      <td>23.256700</td>\n",
       "      <td>0.434783</td>\n",
       "    </tr>\n",
       "    <tr>\n",
       "      <th>10.0</th>\n",
       "      <td>0.957447</td>\n",
       "      <td>0.702128</td>\n",
       "      <td>0.425532</td>\n",
       "      <td>14.046632</td>\n",
       "      <td>0.106383</td>\n",
       "    </tr>\n",
       "    <tr>\n",
       "      <th>20.0</th>\n",
       "      <td>0.957627</td>\n",
       "      <td>0.135593</td>\n",
       "      <td>0.076271</td>\n",
       "      <td>9.458788</td>\n",
       "      <td>0.186441</td>\n",
       "    </tr>\n",
       "    <tr>\n",
       "      <th>30.0</th>\n",
       "      <td>0.936508</td>\n",
       "      <td>0.238095</td>\n",
       "      <td>0.253968</td>\n",
       "      <td>12.128437</td>\n",
       "      <td>0.253968</td>\n",
       "    </tr>\n",
       "    <tr>\n",
       "      <th>40.0</th>\n",
       "      <td>0.892857</td>\n",
       "      <td>0.214286</td>\n",
       "      <td>0.785714</td>\n",
       "      <td>12.123214</td>\n",
       "      <td>0.035714</td>\n",
       "    </tr>\n",
       "    <tr>\n",
       "      <th>50.0</th>\n",
       "      <td>1.000000</td>\n",
       "      <td>0.200000</td>\n",
       "      <td>0.000000</td>\n",
       "      <td>9.080840</td>\n",
       "      <td>0.000000</td>\n",
       "    </tr>\n",
       "    <tr>\n",
       "      <th>60.0</th>\n",
       "      <td>1.000000</td>\n",
       "      <td>0.000000</td>\n",
       "      <td>0.000000</td>\n",
       "      <td>24.250000</td>\n",
       "      <td>0.000000</td>\n",
       "    </tr>\n",
       "    <tr>\n",
       "      <th>70.0</th>\n",
       "      <td>1.000000</td>\n",
       "      <td>0.000000</td>\n",
       "      <td>0.000000</td>\n",
       "      <td>7.750000</td>\n",
       "      <td>0.000000</td>\n",
       "    </tr>\n",
       "  </tbody>\n",
       "</table>\n",
       "</div>"
      ]
     },
     "execution_count": 10,
     "metadata": {},
     "output_type": "execute_result"
    }
   ],
   "execution_count": 10
  },
  {
   "metadata": {
    "ExecuteTime": {
     "end_time": "2025-05-28T05:54:21.861477Z",
     "start_time": "2025-05-28T05:54:21.857247Z"
    }
   },
   "cell_type": "code",
   "source": [
    "train_data_df = train[['pclass','age']]\n",
    "train_data_df.head()"
   ],
   "id": "78d5665ca8bf1843",
   "outputs": [
    {
     "data": {
      "text/plain": [
       "   pclass   age\n",
       "0       3  30.0\n",
       "1       3   0.0\n",
       "2       3  20.0\n",
       "3       3   0.0\n",
       "4       2   0.0"
      ],
      "text/html": [
       "<div>\n",
       "<style scoped>\n",
       "    .dataframe tbody tr th:only-of-type {\n",
       "        vertical-align: middle;\n",
       "    }\n",
       "\n",
       "    .dataframe tbody tr th {\n",
       "        vertical-align: top;\n",
       "    }\n",
       "\n",
       "    .dataframe thead th {\n",
       "        text-align: right;\n",
       "    }\n",
       "</style>\n",
       "<table border=\"1\" class=\"dataframe\">\n",
       "  <thead>\n",
       "    <tr style=\"text-align: right;\">\n",
       "      <th></th>\n",
       "      <th>pclass</th>\n",
       "      <th>age</th>\n",
       "    </tr>\n",
       "  </thead>\n",
       "  <tbody>\n",
       "    <tr>\n",
       "      <th>0</th>\n",
       "      <td>3</td>\n",
       "      <td>30.0</td>\n",
       "    </tr>\n",
       "    <tr>\n",
       "      <th>1</th>\n",
       "      <td>3</td>\n",
       "      <td>0.0</td>\n",
       "    </tr>\n",
       "    <tr>\n",
       "      <th>2</th>\n",
       "      <td>3</td>\n",
       "      <td>20.0</td>\n",
       "    </tr>\n",
       "    <tr>\n",
       "      <th>3</th>\n",
       "      <td>3</td>\n",
       "      <td>0.0</td>\n",
       "    </tr>\n",
       "    <tr>\n",
       "      <th>4</th>\n",
       "      <td>2</td>\n",
       "      <td>0.0</td>\n",
       "    </tr>\n",
       "  </tbody>\n",
       "</table>\n",
       "</div>"
      ]
     },
     "execution_count": 11,
     "metadata": {},
     "output_type": "execute_result"
    }
   ],
   "execution_count": 11
  },
  {
   "metadata": {
    "ExecuteTime": {
     "end_time": "2025-05-28T05:54:21.917829Z",
     "start_time": "2025-05-28T05:54:21.913448Z"
    }
   },
   "cell_type": "code",
   "source": [
    "train_label_df = train[['survived']]\n",
    "train_label_df.head()"
   ],
   "id": "8e40abd89acb3928",
   "outputs": [
    {
     "data": {
      "text/plain": [
       "   survived\n",
       "0         1\n",
       "1         1\n",
       "2         1\n",
       "3         1\n",
       "4         1"
      ],
      "text/html": [
       "<div>\n",
       "<style scoped>\n",
       "    .dataframe tbody tr th:only-of-type {\n",
       "        vertical-align: middle;\n",
       "    }\n",
       "\n",
       "    .dataframe tbody tr th {\n",
       "        vertical-align: top;\n",
       "    }\n",
       "\n",
       "    .dataframe thead th {\n",
       "        text-align: right;\n",
       "    }\n",
       "</style>\n",
       "<table border=\"1\" class=\"dataframe\">\n",
       "  <thead>\n",
       "    <tr style=\"text-align: right;\">\n",
       "      <th></th>\n",
       "      <th>survived</th>\n",
       "    </tr>\n",
       "  </thead>\n",
       "  <tbody>\n",
       "    <tr>\n",
       "      <th>0</th>\n",
       "      <td>1</td>\n",
       "    </tr>\n",
       "    <tr>\n",
       "      <th>1</th>\n",
       "      <td>1</td>\n",
       "    </tr>\n",
       "    <tr>\n",
       "      <th>2</th>\n",
       "      <td>1</td>\n",
       "    </tr>\n",
       "    <tr>\n",
       "      <th>3</th>\n",
       "      <td>1</td>\n",
       "    </tr>\n",
       "    <tr>\n",
       "      <th>4</th>\n",
       "      <td>1</td>\n",
       "    </tr>\n",
       "  </tbody>\n",
       "</table>\n",
       "</div>"
      ]
     },
     "execution_count": 12,
     "metadata": {},
     "output_type": "execute_result"
    }
   ],
   "execution_count": 12
  },
  {
   "metadata": {
    "ExecuteTime": {
     "end_time": "2025-05-28T05:54:22.023402Z",
     "start_time": "2025-05-28T05:54:22.020625Z"
    }
   },
   "cell_type": "code",
   "source": [
    "train_data = train_data_df.values\n",
    "train_data"
   ],
   "id": "3bac2f8c3824847a",
   "outputs": [
    {
     "data": {
      "text/plain": [
       "array([[ 3., 30.],\n",
       "       [ 3.,  0.],\n",
       "       [ 3., 20.],\n",
       "       ...,\n",
       "       [ 3.,  0.],\n",
       "       [ 3., 10.],\n",
       "       [ 3.,  0.]])"
      ]
     },
     "execution_count": 13,
     "metadata": {},
     "output_type": "execute_result"
    }
   ],
   "execution_count": 13
  },
  {
   "metadata": {
    "ExecuteTime": {
     "end_time": "2025-05-28T05:54:22.084226Z",
     "start_time": "2025-05-28T05:54:22.081678Z"
    }
   },
   "cell_type": "code",
   "source": [
    "train_label = train_label_df.values.ravel()\n",
    "train_label"
   ],
   "id": "7624a2cac7e42e34",
   "outputs": [
    {
     "data": {
      "text/plain": [
       "array([1, 1, 1, 1, 1, 0, 0, 0, 1, 0, 0, 0, 0, 0, 0, 0, 0, 0, 0, 0, 1, 1,\n",
       "       0, 1, 0, 0, 0, 1, 1, 0, 1, 0, 0, 0, 0, 0, 0, 0, 0, 0, 0, 0, 0, 0,\n",
       "       0, 0, 0, 0, 1, 0, 0, 0, 0, 0, 0, 0, 1, 0, 0, 0, 0, 1, 0, 1, 0, 0,\n",
       "       0, 0, 0, 0, 0, 0, 0, 1, 0, 0, 0, 0, 0, 0, 0, 0, 0, 0, 0, 0, 0, 1,\n",
       "       1, 0, 1, 0, 0, 0, 1, 0, 0, 0, 0, 0, 0, 0, 0, 1, 1, 0, 0, 0, 0, 0,\n",
       "       0, 0, 0, 1, 0, 0, 0, 0, 0, 0, 0, 1, 0, 0, 1, 0, 0, 0, 0, 0, 0, 0,\n",
       "       0, 0, 0, 0, 0, 1, 0, 0, 0, 1, 0, 0, 0, 1, 0, 0, 1, 0, 0, 0, 0, 0,\n",
       "       0, 0, 0, 0, 1, 0, 0, 0, 0, 0, 0, 0, 1, 0, 0, 1, 0, 0, 1, 0, 0, 0,\n",
       "       0, 0, 0, 0, 1, 1, 1, 0, 0, 0, 0, 0, 0, 0, 0, 1, 0, 0, 1, 1, 0, 0,\n",
       "       0, 0, 0, 0, 0, 0, 0, 0, 0, 0, 0, 0, 0, 0, 0, 0, 0, 0, 1, 0, 0, 0,\n",
       "       0, 0, 0, 0, 0, 1, 0, 0, 0, 1, 0, 0, 0, 0, 0, 1, 0, 0, 0, 1, 1, 0,\n",
       "       0, 0, 0, 0, 1, 0, 0, 0, 0, 1, 1, 0, 0, 0, 0, 1, 0, 0, 0, 0, 1, 0,\n",
       "       0, 0, 1, 1, 0, 0, 0, 0, 0, 0, 1, 1, 1, 0, 0, 0, 0, 0, 0, 0, 0, 0,\n",
       "       0, 0, 0, 0, 0, 1, 1, 0, 0, 0, 1, 0, 1, 0, 1, 0, 0, 0, 1, 1, 0, 0,\n",
       "       1, 0, 0, 1, 0, 0, 0, 0, 0, 0, 0, 0, 0, 0, 0, 0, 1, 0, 0, 0, 1, 1,\n",
       "       0, 1, 0, 0, 0, 0, 0, 0, 0, 0, 0, 0, 1, 0, 0, 0, 0, 1, 0, 0, 0, 0,\n",
       "       0, 0, 0, 0, 0, 1, 0, 1, 1, 0, 0, 0, 0, 1, 0, 0, 1, 0, 0, 0, 0, 0,\n",
       "       0, 0, 1, 1, 0, 1, 0, 0, 0, 0, 0, 1, 0, 1, 0, 0, 0, 0, 0, 1, 1, 0,\n",
       "       0, 0, 0, 0, 0, 0, 1, 0, 0, 0, 0, 0, 0, 0, 1, 0, 1, 0, 0, 0, 0, 1,\n",
       "       0, 0, 0, 1, 0, 0, 0, 0, 0, 0, 0, 0, 1, 0, 0, 0, 0, 0, 0, 0, 0, 1,\n",
       "       0, 1, 0, 0, 0, 1, 0, 0, 0, 0, 0, 0, 0, 0, 0, 0, 1, 1, 0, 0, 1, 0,\n",
       "       0, 0, 0, 0, 1, 0, 1, 0, 0, 0, 0, 0, 0, 1, 0, 1, 0, 0, 0, 0, 1, 1,\n",
       "       1, 1, 0, 0, 1, 0, 0, 0, 1, 0, 0, 0, 0, 0, 1, 1, 0, 0, 0, 0, 1, 0,\n",
       "       0, 0, 0, 1, 0, 0, 1, 1, 1, 0, 1, 1, 1, 1, 1, 1, 1, 1, 1, 1, 1, 1,\n",
       "       1, 0, 0, 0, 1, 1, 1, 0, 0, 1, 1, 1, 0, 0, 1])"
      ]
     },
     "execution_count": 14,
     "metadata": {},
     "output_type": "execute_result"
    }
   ],
   "execution_count": 14
  },
  {
   "metadata": {
    "ExecuteTime": {
     "end_time": "2025-05-28T05:54:22.128849Z",
     "start_time": "2025-05-28T05:54:22.125320Z"
    }
   },
   "cell_type": "code",
   "source": [
    "test_data_df = test[['pclass','age']]\n",
    "test_data_df"
   ],
   "id": "ad623fb178700a8a",
   "outputs": [
    {
     "data": {
      "text/plain": [
       "     pclass   age\n",
       "0         2  20.0\n",
       "1         3  20.0\n",
       "2         2  30.0\n",
       "3         3  30.0\n",
       "4         2  20.0\n",
       "..      ...   ...\n",
       "205       2   0.0\n",
       "206       2  40.0\n",
       "207       3  60.0\n",
       "208       3  30.0\n",
       "209       1  40.0\n",
       "\n",
       "[210 rows x 2 columns]"
      ],
      "text/html": [
       "<div>\n",
       "<style scoped>\n",
       "    .dataframe tbody tr th:only-of-type {\n",
       "        vertical-align: middle;\n",
       "    }\n",
       "\n",
       "    .dataframe tbody tr th {\n",
       "        vertical-align: top;\n",
       "    }\n",
       "\n",
       "    .dataframe thead th {\n",
       "        text-align: right;\n",
       "    }\n",
       "</style>\n",
       "<table border=\"1\" class=\"dataframe\">\n",
       "  <thead>\n",
       "    <tr style=\"text-align: right;\">\n",
       "      <th></th>\n",
       "      <th>pclass</th>\n",
       "      <th>age</th>\n",
       "    </tr>\n",
       "  </thead>\n",
       "  <tbody>\n",
       "    <tr>\n",
       "      <th>0</th>\n",
       "      <td>2</td>\n",
       "      <td>20.0</td>\n",
       "    </tr>\n",
       "    <tr>\n",
       "      <th>1</th>\n",
       "      <td>3</td>\n",
       "      <td>20.0</td>\n",
       "    </tr>\n",
       "    <tr>\n",
       "      <th>2</th>\n",
       "      <td>2</td>\n",
       "      <td>30.0</td>\n",
       "    </tr>\n",
       "    <tr>\n",
       "      <th>3</th>\n",
       "      <td>3</td>\n",
       "      <td>30.0</td>\n",
       "    </tr>\n",
       "    <tr>\n",
       "      <th>4</th>\n",
       "      <td>2</td>\n",
       "      <td>20.0</td>\n",
       "    </tr>\n",
       "    <tr>\n",
       "      <th>...</th>\n",
       "      <td>...</td>\n",
       "      <td>...</td>\n",
       "    </tr>\n",
       "    <tr>\n",
       "      <th>205</th>\n",
       "      <td>2</td>\n",
       "      <td>0.0</td>\n",
       "    </tr>\n",
       "    <tr>\n",
       "      <th>206</th>\n",
       "      <td>2</td>\n",
       "      <td>40.0</td>\n",
       "    </tr>\n",
       "    <tr>\n",
       "      <th>207</th>\n",
       "      <td>3</td>\n",
       "      <td>60.0</td>\n",
       "    </tr>\n",
       "    <tr>\n",
       "      <th>208</th>\n",
       "      <td>3</td>\n",
       "      <td>30.0</td>\n",
       "    </tr>\n",
       "    <tr>\n",
       "      <th>209</th>\n",
       "      <td>1</td>\n",
       "      <td>40.0</td>\n",
       "    </tr>\n",
       "  </tbody>\n",
       "</table>\n",
       "<p>210 rows × 2 columns</p>\n",
       "</div>"
      ]
     },
     "execution_count": 15,
     "metadata": {},
     "output_type": "execute_result"
    }
   ],
   "execution_count": 15
  },
  {
   "metadata": {
    "ExecuteTime": {
     "end_time": "2025-05-28T05:54:22.177597Z",
     "start_time": "2025-05-28T05:54:22.173936Z"
    }
   },
   "cell_type": "code",
   "source": [
    "test_label_df = test[['survived']]\n",
    "test_label_df"
   ],
   "id": "9a2041ef503cf55e",
   "outputs": [
    {
     "data": {
      "text/plain": [
       "     survived\n",
       "0           1\n",
       "1           1\n",
       "2           1\n",
       "3           0\n",
       "4           0\n",
       "..        ...\n",
       "205         1\n",
       "206         0\n",
       "207         0\n",
       "208         0\n",
       "209         1\n",
       "\n",
       "[210 rows x 1 columns]"
      ],
      "text/html": [
       "<div>\n",
       "<style scoped>\n",
       "    .dataframe tbody tr th:only-of-type {\n",
       "        vertical-align: middle;\n",
       "    }\n",
       "\n",
       "    .dataframe tbody tr th {\n",
       "        vertical-align: top;\n",
       "    }\n",
       "\n",
       "    .dataframe thead th {\n",
       "        text-align: right;\n",
       "    }\n",
       "</style>\n",
       "<table border=\"1\" class=\"dataframe\">\n",
       "  <thead>\n",
       "    <tr style=\"text-align: right;\">\n",
       "      <th></th>\n",
       "      <th>survived</th>\n",
       "    </tr>\n",
       "  </thead>\n",
       "  <tbody>\n",
       "    <tr>\n",
       "      <th>0</th>\n",
       "      <td>1</td>\n",
       "    </tr>\n",
       "    <tr>\n",
       "      <th>1</th>\n",
       "      <td>1</td>\n",
       "    </tr>\n",
       "    <tr>\n",
       "      <th>2</th>\n",
       "      <td>1</td>\n",
       "    </tr>\n",
       "    <tr>\n",
       "      <th>3</th>\n",
       "      <td>0</td>\n",
       "    </tr>\n",
       "    <tr>\n",
       "      <th>4</th>\n",
       "      <td>0</td>\n",
       "    </tr>\n",
       "    <tr>\n",
       "      <th>...</th>\n",
       "      <td>...</td>\n",
       "    </tr>\n",
       "    <tr>\n",
       "      <th>205</th>\n",
       "      <td>1</td>\n",
       "    </tr>\n",
       "    <tr>\n",
       "      <th>206</th>\n",
       "      <td>0</td>\n",
       "    </tr>\n",
       "    <tr>\n",
       "      <th>207</th>\n",
       "      <td>0</td>\n",
       "    </tr>\n",
       "    <tr>\n",
       "      <th>208</th>\n",
       "      <td>0</td>\n",
       "    </tr>\n",
       "    <tr>\n",
       "      <th>209</th>\n",
       "      <td>1</td>\n",
       "    </tr>\n",
       "  </tbody>\n",
       "</table>\n",
       "<p>210 rows × 1 columns</p>\n",
       "</div>"
      ]
     },
     "execution_count": 16,
     "metadata": {},
     "output_type": "execute_result"
    }
   ],
   "execution_count": 16
  },
  {
   "metadata": {
    "ExecuteTime": {
     "end_time": "2025-05-28T05:54:22.226Z",
     "start_time": "2025-05-28T05:54:22.222397Z"
    }
   },
   "cell_type": "code",
   "source": [
    "test_data = test_data_df.values\n",
    "test_data"
   ],
   "id": "c5bc5ce397f21c7b",
   "outputs": [
    {
     "data": {
      "text/plain": [
       "array([[ 2., 20.],\n",
       "       [ 3., 20.],\n",
       "       [ 2., 30.],\n",
       "       [ 3., 30.],\n",
       "       [ 2., 20.],\n",
       "       [ 3., 20.],\n",
       "       [ 3., 30.],\n",
       "       [ 2., 40.],\n",
       "       [ 3., 10.],\n",
       "       [ 2., 40.],\n",
       "       [ 3., 30.],\n",
       "       [ 2., 30.],\n",
       "       [ 2., 50.],\n",
       "       [ 2., 20.],\n",
       "       [ 3., 10.],\n",
       "       [ 3., 20.],\n",
       "       [ 3., 20.],\n",
       "       [ 2., 20.],\n",
       "       [ 1., 20.],\n",
       "       [ 1., 40.],\n",
       "       [ 3., 60.],\n",
       "       [ 2., 20.],\n",
       "       [ 1.,  0.],\n",
       "       [ 3., 30.],\n",
       "       [ 1., 30.],\n",
       "       [ 1., 30.],\n",
       "       [ 1., 60.],\n",
       "       [ 3.,  0.],\n",
       "       [ 3., 20.],\n",
       "       [ 1., 20.],\n",
       "       [ 1., 30.],\n",
       "       [ 1., 40.],\n",
       "       [ 1., 40.],\n",
       "       [ 3., 10.],\n",
       "       [ 1., 40.],\n",
       "       [ 3., 10.],\n",
       "       [ 1., 40.],\n",
       "       [ 2., 20.],\n",
       "       [ 2., 20.],\n",
       "       [ 3., 10.],\n",
       "       [ 3., 10.],\n",
       "       [ 2., 10.],\n",
       "       [ 1., 20.],\n",
       "       [ 2., 20.],\n",
       "       [ 3.,  0.],\n",
       "       [ 2., 50.],\n",
       "       [ 3., 20.],\n",
       "       [ 3., 30.],\n",
       "       [ 3., 20.],\n",
       "       [ 3., 30.],\n",
       "       [ 1., 10.],\n",
       "       [ 1., 50.],\n",
       "       [ 2., 20.],\n",
       "       [ 3., 20.],\n",
       "       [ 2., 30.],\n",
       "       [ 3., 20.],\n",
       "       [ 3.,  0.],\n",
       "       [ 2., 20.],\n",
       "       [ 1., 40.],\n",
       "       [ 1., 60.],\n",
       "       [ 1., 30.],\n",
       "       [ 3., 20.],\n",
       "       [ 2., 10.],\n",
       "       [ 2., 30.],\n",
       "       [ 2., 30.],\n",
       "       [ 1., 20.],\n",
       "       [ 2., 20.],\n",
       "       [ 1., 40.],\n",
       "       [ 3., 70.],\n",
       "       [ 2., 60.],\n",
       "       [ 3., 20.],\n",
       "       [ 1., 30.],\n",
       "       [ 1., 40.],\n",
       "       [ 3., 20.],\n",
       "       [ 1., 40.],\n",
       "       [ 3., 20.],\n",
       "       [ 2., 20.],\n",
       "       [ 3.,  0.],\n",
       "       [ 3.,  0.],\n",
       "       [ 3.,  0.],\n",
       "       [ 3., 20.],\n",
       "       [ 3.,  0.],\n",
       "       [ 3.,  0.],\n",
       "       [ 3., 20.],\n",
       "       [ 3., 20.],\n",
       "       [ 3., 30.],\n",
       "       [ 3., 10.],\n",
       "       [ 3., 20.],\n",
       "       [ 2.,  0.],\n",
       "       [ 3., 40.],\n",
       "       [ 3., 20.],\n",
       "       [ 1., 70.],\n",
       "       [ 3., 10.],\n",
       "       [ 3., 50.],\n",
       "       [ 3., 20.],\n",
       "       [ 3., 30.],\n",
       "       [ 3., 20.],\n",
       "       [ 2., 50.],\n",
       "       [ 3., 20.],\n",
       "       [ 3., 30.],\n",
       "       [ 1., 50.],\n",
       "       [ 3., 20.],\n",
       "       [ 3., 30.],\n",
       "       [ 3., 20.],\n",
       "       [ 2., 30.],\n",
       "       [ 1., 10.],\n",
       "       [ 2., 50.],\n",
       "       [ 3., 20.],\n",
       "       [ 2.,  0.],\n",
       "       [ 3., 40.],\n",
       "       [ 1., 50.],\n",
       "       [ 1., 30.],\n",
       "       [ 3., 10.],\n",
       "       [ 2., 60.],\n",
       "       [ 2., 20.],\n",
       "       [ 1., 50.],\n",
       "       [ 2., 20.],\n",
       "       [ 3., 20.],\n",
       "       [ 3., 20.],\n",
       "       [ 3.,  0.],\n",
       "       [ 3.,  0.],\n",
       "       [ 3., 30.],\n",
       "       [ 2., 20.],\n",
       "       [ 3., 10.],\n",
       "       [ 1., 30.],\n",
       "       [ 2., 30.],\n",
       "       [ 3., 20.],\n",
       "       [ 3., 20.],\n",
       "       [ 3., 20.],\n",
       "       [ 3., 20.],\n",
       "       [ 1., 50.],\n",
       "       [ 1., 30.],\n",
       "       [ 2.,  0.],\n",
       "       [ 3., 20.],\n",
       "       [ 1., 30.],\n",
       "       [ 1., 40.],\n",
       "       [ 2., 50.],\n",
       "       [ 2., 30.],\n",
       "       [ 3., 20.],\n",
       "       [ 1., 20.],\n",
       "       [ 3., 10.],\n",
       "       [ 3., 40.],\n",
       "       [ 3., 20.],\n",
       "       [ 2., 20.],\n",
       "       [ 1., 30.],\n",
       "       [ 3., 20.],\n",
       "       [ 2., 20.],\n",
       "       [ 3., 40.],\n",
       "       [ 3., 20.],\n",
       "       [ 1., 30.],\n",
       "       [ 3., 40.],\n",
       "       [ 2., 20.],\n",
       "       [ 3.,  0.],\n",
       "       [ 1., 30.],\n",
       "       [ 3., 20.],\n",
       "       [ 2., 30.],\n",
       "       [ 3., 20.],\n",
       "       [ 3., 20.],\n",
       "       [ 2., 40.],\n",
       "       [ 3., 10.],\n",
       "       [ 2., 20.],\n",
       "       [ 3., 40.],\n",
       "       [ 3., 50.],\n",
       "       [ 1., 40.],\n",
       "       [ 2., 20.],\n",
       "       [ 2., 50.],\n",
       "       [ 3., 10.],\n",
       "       [ 1., 40.],\n",
       "       [ 1., 60.],\n",
       "       [ 1., 10.],\n",
       "       [ 2., 10.],\n",
       "       [ 3., 20.],\n",
       "       [ 3., 20.],\n",
       "       [ 2., 30.],\n",
       "       [ 3., 20.],\n",
       "       [ 1., 20.],\n",
       "       [ 2., 30.],\n",
       "       [ 3., 10.],\n",
       "       [ 1., 10.],\n",
       "       [ 3., 20.],\n",
       "       [ 3., 10.],\n",
       "       [ 3.,  0.],\n",
       "       [ 3., 10.],\n",
       "       [ 2., 30.],\n",
       "       [ 1., 10.],\n",
       "       [ 3., 20.],\n",
       "       [ 1., 30.],\n",
       "       [ 3., 20.],\n",
       "       [ 1., 30.],\n",
       "       [ 2., 30.],\n",
       "       [ 3., 20.],\n",
       "       [ 1., 40.],\n",
       "       [ 3., 20.],\n",
       "       [ 2., 10.],\n",
       "       [ 3., 20.],\n",
       "       [ 1., 50.],\n",
       "       [ 1., 40.],\n",
       "       [ 2.,  0.],\n",
       "       [ 1., 20.],\n",
       "       [ 3., 10.],\n",
       "       [ 3., 20.],\n",
       "       [ 3., 30.],\n",
       "       [ 3.,  0.],\n",
       "       [ 2., 20.],\n",
       "       [ 2.,  0.],\n",
       "       [ 2.,  0.],\n",
       "       [ 2., 40.],\n",
       "       [ 3., 60.],\n",
       "       [ 3., 30.],\n",
       "       [ 1., 40.]])"
      ]
     },
     "execution_count": 17,
     "metadata": {},
     "output_type": "execute_result"
    }
   ],
   "execution_count": 17
  },
  {
   "metadata": {
    "ExecuteTime": {
     "end_time": "2025-05-28T05:54:22.335118Z",
     "start_time": "2025-05-28T05:54:22.333007Z"
    }
   },
   "cell_type": "code",
   "source": [
    "test_label = test_label_df.values.ravel()\n",
    "test_label"
   ],
   "id": "f25f35f286358dcf",
   "outputs": [
    {
     "data": {
      "text/plain": [
       "array([1, 1, 1, 0, 0, 0, 0, 1, 0, 1, 0, 0, 0, 1, 0, 0, 0, 1, 0, 1, 0, 0,\n",
       "       1, 0, 0, 1, 1, 1, 0, 1, 1, 0, 1, 1, 0, 0, 1, 0, 0, 0, 0, 1, 1, 1,\n",
       "       0, 1, 0, 0, 0, 0, 0, 1, 0, 1, 0, 0, 1, 1, 0, 0, 0, 1, 0, 1, 0, 1,\n",
       "       0, 0, 0, 0, 0, 1, 0, 0, 1, 1, 1, 0, 0, 0, 0, 0, 0, 0, 0, 0, 1, 1,\n",
       "       1, 0, 0, 0, 1, 0, 0, 0, 0, 0, 1, 0, 1, 0, 0, 0, 0, 1, 1, 0, 1, 0,\n",
       "       0, 0, 0, 0, 1, 0, 1, 0, 0, 0, 0, 0, 0, 0, 0, 0, 0, 1, 1, 0, 1, 0,\n",
       "       1, 0, 0, 0, 0, 0, 1, 1, 0, 0, 0, 0, 1, 1, 0, 1, 1, 1, 0, 1, 1, 0,\n",
       "       0, 0, 0, 0, 1, 1, 0, 0, 0, 0, 0, 1, 0, 0, 0, 1, 1, 0, 0, 0, 0, 1,\n",
       "       1, 0, 1, 0, 0, 0, 0, 1, 0, 0, 1, 1, 1, 0, 0, 0, 0, 0, 1, 0, 0, 1,\n",
       "       1, 1, 0, 1, 0, 0, 1, 1, 0, 0, 0, 1])"
      ]
     },
     "execution_count": 18,
     "metadata": {},
     "output_type": "execute_result"
    }
   ],
   "execution_count": 18
  },
  {
   "metadata": {
    "ExecuteTime": {
     "end_time": "2025-05-28T05:54:22.440553Z",
     "start_time": "2025-05-28T05:54:22.410890Z"
    }
   },
   "cell_type": "code",
   "source": [
    "clf = svm.SVC(C=1, gamma=0.1)\n",
    "clf.fit(train_data,train_label)\n",
    "\n",
    "pred_svm = clf.predict(test_data)\n",
    "test['survived_predict'] = pred_svm\n",
    "test"
   ],
   "id": "8ee28207ff56b2ba",
   "outputs": [
    {
     "data": {
      "text/plain": [
       "     pclass                                               name  sex   age  \\\n",
       "0         2  Laroche, Mrs. Joseph (Juliette Marie Louise La...    0  20.0   \n",
       "1         3                                Buckley, Mr. Daniel    1  20.0   \n",
       "2         2       Ware, Mrs. John James (Florence Louise Long)    0  30.0   \n",
       "3         3                            Connaghton, Mr. Michael    1  30.0   \n",
       "4         2             Laroche, Mr. Joseph Philippe Lemercier    1  20.0   \n",
       "..      ...                                                ...  ...   ...   \n",
       "205       2                          Becker, Master. Richard F    1   0.0   \n",
       "206       2                             Harbeck, Mr. William H    1  40.0   \n",
       "207       3                                   Duane, Mr. Frank    1  60.0   \n",
       "208       3                         Johansson, Mr. Gustaf Joel    1  30.0   \n",
       "209       1                    Burns, Miss. Elizabeth Margaret    0  40.0   \n",
       "\n",
       "     sibsp  parch         ticket      fare cabin embarked  survived  \\\n",
       "0        1      2  SC/Paris 2123   41.5792   NaN        C         1   \n",
       "1        0      0         330920    7.8208   NaN        Q         1   \n",
       "2        0      0       CA 31352   21.0000   NaN        S         1   \n",
       "3        0      0         335097    7.7500   NaN        Q         0   \n",
       "4        1      2  SC/Paris 2123   41.5792   NaN        C         0   \n",
       "..     ...    ...            ...       ...   ...      ...       ...   \n",
       "205      2      1         230136   39.0000    F4        S         1   \n",
       "206      0      0         248746   13.0000   NaN        S         0   \n",
       "207      0      0         336439    7.7500   NaN        Q         0   \n",
       "208      0      0           7540    8.6542   NaN        S         0   \n",
       "209      0      0          16966  134.5000   E40        C         1   \n",
       "\n",
       "     survived_predict  \n",
       "0                   0  \n",
       "1                   0  \n",
       "2                   0  \n",
       "3                   0  \n",
       "4                   0  \n",
       "..                ...  \n",
       "205                 1  \n",
       "206                 0  \n",
       "207                 0  \n",
       "208                 0  \n",
       "209                 0  \n",
       "\n",
       "[210 rows x 12 columns]"
      ],
      "text/html": [
       "<div>\n",
       "<style scoped>\n",
       "    .dataframe tbody tr th:only-of-type {\n",
       "        vertical-align: middle;\n",
       "    }\n",
       "\n",
       "    .dataframe tbody tr th {\n",
       "        vertical-align: top;\n",
       "    }\n",
       "\n",
       "    .dataframe thead th {\n",
       "        text-align: right;\n",
       "    }\n",
       "</style>\n",
       "<table border=\"1\" class=\"dataframe\">\n",
       "  <thead>\n",
       "    <tr style=\"text-align: right;\">\n",
       "      <th></th>\n",
       "      <th>pclass</th>\n",
       "      <th>name</th>\n",
       "      <th>sex</th>\n",
       "      <th>age</th>\n",
       "      <th>sibsp</th>\n",
       "      <th>parch</th>\n",
       "      <th>ticket</th>\n",
       "      <th>fare</th>\n",
       "      <th>cabin</th>\n",
       "      <th>embarked</th>\n",
       "      <th>survived</th>\n",
       "      <th>survived_predict</th>\n",
       "    </tr>\n",
       "  </thead>\n",
       "  <tbody>\n",
       "    <tr>\n",
       "      <th>0</th>\n",
       "      <td>2</td>\n",
       "      <td>Laroche, Mrs. Joseph (Juliette Marie Louise La...</td>\n",
       "      <td>0</td>\n",
       "      <td>20.0</td>\n",
       "      <td>1</td>\n",
       "      <td>2</td>\n",
       "      <td>SC/Paris 2123</td>\n",
       "      <td>41.5792</td>\n",
       "      <td>NaN</td>\n",
       "      <td>C</td>\n",
       "      <td>1</td>\n",
       "      <td>0</td>\n",
       "    </tr>\n",
       "    <tr>\n",
       "      <th>1</th>\n",
       "      <td>3</td>\n",
       "      <td>Buckley, Mr. Daniel</td>\n",
       "      <td>1</td>\n",
       "      <td>20.0</td>\n",
       "      <td>0</td>\n",
       "      <td>0</td>\n",
       "      <td>330920</td>\n",
       "      <td>7.8208</td>\n",
       "      <td>NaN</td>\n",
       "      <td>Q</td>\n",
       "      <td>1</td>\n",
       "      <td>0</td>\n",
       "    </tr>\n",
       "    <tr>\n",
       "      <th>2</th>\n",
       "      <td>2</td>\n",
       "      <td>Ware, Mrs. John James (Florence Louise Long)</td>\n",
       "      <td>0</td>\n",
       "      <td>30.0</td>\n",
       "      <td>0</td>\n",
       "      <td>0</td>\n",
       "      <td>CA 31352</td>\n",
       "      <td>21.0000</td>\n",
       "      <td>NaN</td>\n",
       "      <td>S</td>\n",
       "      <td>1</td>\n",
       "      <td>0</td>\n",
       "    </tr>\n",
       "    <tr>\n",
       "      <th>3</th>\n",
       "      <td>3</td>\n",
       "      <td>Connaghton, Mr. Michael</td>\n",
       "      <td>1</td>\n",
       "      <td>30.0</td>\n",
       "      <td>0</td>\n",
       "      <td>0</td>\n",
       "      <td>335097</td>\n",
       "      <td>7.7500</td>\n",
       "      <td>NaN</td>\n",
       "      <td>Q</td>\n",
       "      <td>0</td>\n",
       "      <td>0</td>\n",
       "    </tr>\n",
       "    <tr>\n",
       "      <th>4</th>\n",
       "      <td>2</td>\n",
       "      <td>Laroche, Mr. Joseph Philippe Lemercier</td>\n",
       "      <td>1</td>\n",
       "      <td>20.0</td>\n",
       "      <td>1</td>\n",
       "      <td>2</td>\n",
       "      <td>SC/Paris 2123</td>\n",
       "      <td>41.5792</td>\n",
       "      <td>NaN</td>\n",
       "      <td>C</td>\n",
       "      <td>0</td>\n",
       "      <td>0</td>\n",
       "    </tr>\n",
       "    <tr>\n",
       "      <th>...</th>\n",
       "      <td>...</td>\n",
       "      <td>...</td>\n",
       "      <td>...</td>\n",
       "      <td>...</td>\n",
       "      <td>...</td>\n",
       "      <td>...</td>\n",
       "      <td>...</td>\n",
       "      <td>...</td>\n",
       "      <td>...</td>\n",
       "      <td>...</td>\n",
       "      <td>...</td>\n",
       "      <td>...</td>\n",
       "    </tr>\n",
       "    <tr>\n",
       "      <th>205</th>\n",
       "      <td>2</td>\n",
       "      <td>Becker, Master. Richard F</td>\n",
       "      <td>1</td>\n",
       "      <td>0.0</td>\n",
       "      <td>2</td>\n",
       "      <td>1</td>\n",
       "      <td>230136</td>\n",
       "      <td>39.0000</td>\n",
       "      <td>F4</td>\n",
       "      <td>S</td>\n",
       "      <td>1</td>\n",
       "      <td>1</td>\n",
       "    </tr>\n",
       "    <tr>\n",
       "      <th>206</th>\n",
       "      <td>2</td>\n",
       "      <td>Harbeck, Mr. William H</td>\n",
       "      <td>1</td>\n",
       "      <td>40.0</td>\n",
       "      <td>0</td>\n",
       "      <td>0</td>\n",
       "      <td>248746</td>\n",
       "      <td>13.0000</td>\n",
       "      <td>NaN</td>\n",
       "      <td>S</td>\n",
       "      <td>0</td>\n",
       "      <td>0</td>\n",
       "    </tr>\n",
       "    <tr>\n",
       "      <th>207</th>\n",
       "      <td>3</td>\n",
       "      <td>Duane, Mr. Frank</td>\n",
       "      <td>1</td>\n",
       "      <td>60.0</td>\n",
       "      <td>0</td>\n",
       "      <td>0</td>\n",
       "      <td>336439</td>\n",
       "      <td>7.7500</td>\n",
       "      <td>NaN</td>\n",
       "      <td>Q</td>\n",
       "      <td>0</td>\n",
       "      <td>0</td>\n",
       "    </tr>\n",
       "    <tr>\n",
       "      <th>208</th>\n",
       "      <td>3</td>\n",
       "      <td>Johansson, Mr. Gustaf Joel</td>\n",
       "      <td>1</td>\n",
       "      <td>30.0</td>\n",
       "      <td>0</td>\n",
       "      <td>0</td>\n",
       "      <td>7540</td>\n",
       "      <td>8.6542</td>\n",
       "      <td>NaN</td>\n",
       "      <td>S</td>\n",
       "      <td>0</td>\n",
       "      <td>0</td>\n",
       "    </tr>\n",
       "    <tr>\n",
       "      <th>209</th>\n",
       "      <td>1</td>\n",
       "      <td>Burns, Miss. Elizabeth Margaret</td>\n",
       "      <td>0</td>\n",
       "      <td>40.0</td>\n",
       "      <td>0</td>\n",
       "      <td>0</td>\n",
       "      <td>16966</td>\n",
       "      <td>134.5000</td>\n",
       "      <td>E40</td>\n",
       "      <td>C</td>\n",
       "      <td>1</td>\n",
       "      <td>0</td>\n",
       "    </tr>\n",
       "  </tbody>\n",
       "</table>\n",
       "<p>210 rows × 12 columns</p>\n",
       "</div>"
      ]
     },
     "execution_count": 19,
     "metadata": {},
     "output_type": "execute_result"
    }
   ],
   "execution_count": 19
  },
  {
   "metadata": {
    "ExecuteTime": {
     "end_time": "2025-05-28T05:54:22.558001Z",
     "start_time": "2025-05-28T05:54:22.486330Z"
    }
   },
   "cell_type": "code",
   "source": [
    "print(test['pclass'].value_counts())\n",
    "ax = sns.countplot(x='pclass', hue='survived_predict', data=test)"
   ],
   "id": "4ee950a1fb343952",
   "outputs": [
    {
     "name": "stdout",
     "output_type": "stream",
     "text": [
      "pclass\n",
      "3    102\n",
      "2     56\n",
      "1     52\n",
      "Name: count, dtype: int64\n"
     ]
    },
    {
     "data": {
      "text/plain": [
       "<Figure size 640x480 with 1 Axes>"
      ],
      "image/png": "[encoded data removed]"
     },
     "metadata": {},
     "output_type": "display_data"
    }
   ],
   "execution_count": 20
  },
  {
   "metadata": {
    "ExecuteTime": {
     "end_time": "2025-05-28T05:54:22.726957Z",
     "start_time": "2025-05-28T05:54:22.589080Z"
    }
   },
   "cell_type": "code",
   "source": [
    "print(test['sex'].value_counts())\n",
    "ax = sns.countplot(x='sex',hue='survived_predict',data=test)"
   ],
   "id": "2560148e9da988cb",
   "outputs": [
    {
     "name": "stdout",
     "output_type": "stream",
     "text": [
      "sex\n",
      "1    148\n",
      "0     62\n",
      "Name: count, dtype: int64\n"
     ]
    },
    {
     "data": {
      "text/plain": [
       "<Figure size 640x480 with 1 Axes>"
      ],
      "image/png": "[encoded data removed]"
     },
     "metadata": {},
     "output_type": "display_data"
    }
   ],
   "execution_count": 21
  },
  {
   "metadata": {
    "ExecuteTime": {
     "end_time": "2025-05-28T05:54:22.963632Z",
     "start_time": "2025-05-28T05:54:22.866291Z"
    }
   },
   "cell_type": "code",
   "source": [
    "print(test['age'].value_counts())\n",
    "ax = sns.countplot(x='age',hue='survived_predict',data=test)"
   ],
   "id": "42df0e9e58bc90fb",
   "outputs": [
    {
     "name": "stdout",
     "output_type": "stream",
     "text": [
      "age\n",
      "20.0    76\n",
      "30.0    40\n",
      "10.0    26\n",
      "40.0    25\n",
      "0.0     20\n",
      "50.0    14\n",
      "60.0     7\n",
      "70.0     2\n",
      "Name: count, dtype: int64\n"
     ]
    },
    {
     "data": {
      "text/plain": [
       "<Figure size 640x480 with 1 Axes>"
      ],
      "image/png": "[encoded data removed]"
     },
     "metadata": {},
     "output_type": "display_data"
    }
   ],
   "execution_count": 22
  },
  {
   "metadata": {
    "ExecuteTime": {
     "end_time": "2025-05-28T05:54:23.004154Z",
     "start_time": "2025-05-28T05:54:22.995837Z"
    }
   },
   "cell_type": "code",
   "source": "test.groupby(['pclass','sex']).mean(numeric_only=True)",
   "id": "a9991286e4fe1789",
   "outputs": [
    {
     "data": {
      "text/plain": [
       "                  age     sibsp     parch        fare  survived  \\\n",
       "pclass sex                                                        \n",
       "1      0    30.000000  0.750000  0.500000  114.252300  1.000000   \n",
       "       1    36.250000  0.281250  0.343750   89.616800  0.187500   \n",
       "2      0    26.842105  0.473684  1.000000   25.384211  0.947368   \n",
       "       1    24.864865  0.513514  0.351351   21.826127  0.243243   \n",
       "3      0    14.782609  0.826087  0.869565   15.277000  0.521739   \n",
       "       1    21.645570  0.708861  0.278481   12.980115  0.139241   \n",
       "\n",
       "            survived_predict  \n",
       "pclass sex                    \n",
       "1      0            0.000000  \n",
       "       1            0.031250  \n",
       "2      0            0.052632  \n",
       "       1            0.135135  \n",
       "3      0            0.217391  \n",
       "       1            0.101266  "
      ],
      "text/html": [
       "<div>\n",
       "<style scoped>\n",
       "    .dataframe tbody tr th:only-of-type {\n",
       "        vertical-align: middle;\n",
       "    }\n",
       "\n",
       "    .dataframe tbody tr th {\n",
       "        vertical-align: top;\n",
       "    }\n",
       "\n",
       "    .dataframe thead th {\n",
       "        text-align: right;\n",
       "    }\n",
       "</style>\n",
       "<table border=\"1\" class=\"dataframe\">\n",
       "  <thead>\n",
       "    <tr style=\"text-align: right;\">\n",
       "      <th></th>\n",
       "      <th></th>\n",
       "      <th>age</th>\n",
       "      <th>sibsp</th>\n",
       "      <th>parch</th>\n",
       "      <th>fare</th>\n",
       "      <th>survived</th>\n",
       "      <th>survived_predict</th>\n",
       "    </tr>\n",
       "    <tr>\n",
       "      <th>pclass</th>\n",
       "      <th>sex</th>\n",
       "      <th></th>\n",
       "      <th></th>\n",
       "      <th></th>\n",
       "      <th></th>\n",
       "      <th></th>\n",
       "      <th></th>\n",
       "    </tr>\n",
       "  </thead>\n",
       "  <tbody>\n",
       "    <tr>\n",
       "      <th rowspan=\"2\" valign=\"top\">1</th>\n",
       "      <th>0</th>\n",
       "      <td>30.000000</td>\n",
       "      <td>0.750000</td>\n",
       "      <td>0.500000</td>\n",
       "      <td>114.252300</td>\n",
       "      <td>1.000000</td>\n",
       "      <td>0.000000</td>\n",
       "    </tr>\n",
       "    <tr>\n",
       "      <th>1</th>\n",
       "      <td>36.250000</td>\n",
       "      <td>0.281250</td>\n",
       "      <td>0.343750</td>\n",
       "      <td>89.616800</td>\n",
       "      <td>0.187500</td>\n",
       "      <td>0.031250</td>\n",
       "    </tr>\n",
       "    <tr>\n",
       "      <th rowspan=\"2\" valign=\"top\">2</th>\n",
       "      <th>0</th>\n",
       "      <td>26.842105</td>\n",
       "      <td>0.473684</td>\n",
       "      <td>1.000000</td>\n",
       "      <td>25.384211</td>\n",
       "      <td>0.947368</td>\n",
       "      <td>0.052632</td>\n",
       "    </tr>\n",
       "    <tr>\n",
       "      <th>1</th>\n",
       "      <td>24.864865</td>\n",
       "      <td>0.513514</td>\n",
       "      <td>0.351351</td>\n",
       "      <td>21.826127</td>\n",
       "      <td>0.243243</td>\n",
       "      <td>0.135135</td>\n",
       "    </tr>\n",
       "    <tr>\n",
       "      <th rowspan=\"2\" valign=\"top\">3</th>\n",
       "      <th>0</th>\n",
       "      <td>14.782609</td>\n",
       "      <td>0.826087</td>\n",
       "      <td>0.869565</td>\n",
       "      <td>15.277000</td>\n",
       "      <td>0.521739</td>\n",
       "      <td>0.217391</td>\n",
       "    </tr>\n",
       "    <tr>\n",
       "      <th>1</th>\n",
       "      <td>21.645570</td>\n",
       "      <td>0.708861</td>\n",
       "      <td>0.278481</td>\n",
       "      <td>12.980115</td>\n",
       "      <td>0.139241</td>\n",
       "      <td>0.101266</td>\n",
       "    </tr>\n",
       "  </tbody>\n",
       "</table>\n",
       "</div>"
      ]
     },
     "execution_count": 23,
     "metadata": {},
     "output_type": "execute_result"
    }
   ],
   "execution_count": 23
  },
  {
   "metadata": {
    "ExecuteTime": {
     "end_time": "2025-05-28T05:56:14.483410Z",
     "start_time": "2025-05-28T05:56:14.466043Z"
    }
   },
   "cell_type": "code",
   "source": "print(f'실제 생존한 남성 수 : {len(test_label)}/{test_label.sum()}\\n편향된 데이터로 예측한 남성 생존자수 {len(test_label)}/{test[\"survived_predict\"].sum()}')",
   "id": "c8b93999424b1ee7",
   "outputs": [
    {
     "name": "stdout",
     "output_type": "stream",
     "text": [
      "실제 생존한 남성 수 : 210/76\n",
      "편향된 데이터로 예측한 남성 생존자수 210/20\n"
     ]
    }
   ],
   "execution_count": 28
  },
  {
   "metadata": {},
   "cell_type": "code",
   "outputs": [],
   "execution_count": null,
   "source": "",
   "id": "e2aee5b2d8436f0b"
  }
 ],
 "metadata": {
  "kernelspec": {
   "display_name": "Python 3",
   "language": "python",
   "name": "python3"
  },
  "language_info": {
   "codemirror_mode": {
    "name": "ipython",
    "version": 2
   },
   "file_extension": ".py",
   "mimetype": "text/x-python",
   "name": "python",
   "nbconvert_exporter": "python",
   "pygments_lexer": "ipython2",
   "version": "2.7.6"
  }
 },
 "nbformat": 4,
 "nbformat_minor": 5
}
